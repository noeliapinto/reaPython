{
 "cells": [
  {
   "cell_type": "markdown",
   "id": "ea20f42d",
   "metadata": {},
   "source": [
    "## Ejercicios con Python para Beginners "
   ]
  },
  {
   "cell_type": "markdown",
   "id": "2216fce5",
   "metadata": {},
   "source": [
    "1) Escribir un programa que lea un numero par por teclado. Si el usuario introduce un numero impar, debe repetirse el proceso hasta que lo introduzca correctamente. "
   ]
  },
  {
   "cell_type": "code",
   "execution_count": 1,
   "id": "3f6e7cf8",
   "metadata": {},
   "outputs": [
    {
     "name": "stdout",
     "output_type": "stream",
     "text": [
      "Ingresa un numero par: 5\n",
      "-> El numero ingresado es impar, ingrese un numero par\n",
      "Ingresa un numero par: 2\n",
      "El numero ingresado es par, finalizado\n"
     ]
    }
   ],
   "source": [
    "while True:\n",
    "    opcion=int(input(\"Ingresa un numero par: \"))\n",
    "    if opcion % 2 != 0:\n",
    "        print(\"-> El numero ingresado es impar, ingrese un numero par\")\n",
    "    else:\n",
    "        print(\"El numero ingresado es par, finalizado\")\n",
    "        break\n",
    "    \n",
    "\n"
   ]
  },
  {
   "cell_type": "markdown",
   "id": "20abdb91",
   "metadata": {},
   "source": [
    "2) Escribir un programa que pida el usuario cuantos numeros quiere introducir. Luego, que lea todos los numeros y realice una  media aritmetica"
   ]
  },
  {
   "cell_type": "code",
   "execution_count": 4,
   "id": "d7b42585",
   "metadata": {},
   "outputs": [
    {
     "name": "stdout",
     "output_type": "stream",
     "text": [
      "Introduce una cantidad de numeros y calcularemos la media!: 2\n",
      "Introduce el numero1:3\n",
      "Introduce el numero2:4\n",
      "La media de los numeros es:  3.5\n"
     ]
    }
   ],
   "source": [
    "num = int(input(\"Introduce una cantidad de numeros y calcularemos la media!: \"))\n",
    "numeros = []\n",
    "for i in range(num):\n",
    "    a = float(input('Introduce el numero{}:'.format(i+1)))\n",
    "    numeros.append(a)\n",
    "    \n",
    "print(\"La media de los numeros es: \", sum(numeros)/len(numeros))\n"
   ]
  },
  {
   "cell_type": "markdown",
   "id": "e3b165ca",
   "metadata": {},
   "source": [
    "3) Utilizando la función range() y la conversión a listas generar las siguientes listas dinámicamente:\n",
    "\n",
    "- Todos los números pares del 0 al 20\n",
    "- Todos los números múltiplos de 5 del 0 al 50\n",
    " "
   ]
  },
  {
   "cell_type": "code",
   "execution_count": 3,
   "id": "1d37d718",
   "metadata": {},
   "outputs": [
    {
     "name": "stdout",
     "output_type": "stream",
     "text": [
      "[0, 2, 4, 6, 8, 10, 12, 14, 16, 18, 20]\n"
     ]
    }
   ],
   "source": [
    "print([x for x in range(0,21) if x% 2 == 0])"
   ]
  },
  {
   "cell_type": "code",
   "execution_count": 44,
   "id": "63319791",
   "metadata": {},
   "outputs": [
    {
     "name": "stdout",
     "output_type": "stream",
     "text": [
      "[0, 5, 10, 15, 20, 25, 30, 35, 40, 45, 50]\n"
     ]
    }
   ],
   "source": [
    "print([x for x in range(0,51) if x% 5 == 0])"
   ]
  },
  {
   "cell_type": "markdown",
   "id": "10037438",
   "metadata": {},
   "source": [
    "4) Dadas dos listas(las que se quiera crear), generar una tercera con los elementos que estén presentes en AMBAS listas.\n",
    "Retornar una nueva lista pero sin elementos duplicados\n"
   ]
  },
  {
   "cell_type": "code",
   "execution_count": 7,
   "id": "9c2ad2a8",
   "metadata": {},
   "outputs": [],
   "source": [
    "lista1 = [1,1,2,5,5,6,8,9]\n",
    "lista2 = [1,1,2,5,3,4,8]\n"
   ]
  },
  {
   "cell_type": "code",
   "execution_count": 12,
   "id": "1a03ab3e",
   "metadata": {},
   "outputs": [],
   "source": [
    "lista3= []\n",
    "for i in lista1:\n",
    "    if i in lista2:\n",
    "        lista3.append(i)"
   ]
  },
  {
   "cell_type": "code",
   "execution_count": 14,
   "id": "711e35da",
   "metadata": {},
   "outputs": [
    {
     "data": {
      "text/plain": [
       "[1, 1, 2, 5, 5, 8]"
      ]
     },
     "execution_count": 14,
     "metadata": {},
     "output_type": "execute_result"
    }
   ],
   "source": [
    "lista3"
   ]
  },
  {
   "cell_type": "code",
   "execution_count": 16,
   "id": "aa570226",
   "metadata": {},
   "outputs": [
    {
     "data": {
      "text/plain": [
       "[8, 1, 2, 5]"
      ]
     },
     "execution_count": 16,
     "metadata": {},
     "output_type": "execute_result"
    }
   ],
   "source": [
    "[*set(lista3)]"
   ]
  },
  {
   "cell_type": "markdown",
   "id": "cff7f631",
   "metadata": {},
   "source": [
    "5) Escribir un programa que sume todos los números enteros impares desde 0 hasta 100"
   ]
  },
  {
   "cell_type": "code",
   "execution_count": 46,
   "id": "cb3fe1c7",
   "metadata": {},
   "outputs": [],
   "source": [
    "#solucion 1 \n",
    "lista5 =  []\n",
    "for i in range(0,101):\n",
    "    if i % 2 != 0:\n",
    "        lista5.append(i)\n"
   ]
  },
  {
   "cell_type": "code",
   "execution_count": 47,
   "id": "ceab64be",
   "metadata": {},
   "outputs": [
    {
     "data": {
      "text/plain": [
       "2500"
      ]
     },
     "execution_count": 47,
     "metadata": {},
     "output_type": "execute_result"
    }
   ],
   "source": [
    "sum(lista5)"
   ]
  },
  {
   "cell_type": "code",
   "execution_count": 48,
   "id": "0cf8b352",
   "metadata": {},
   "outputs": [],
   "source": [
    "#solucion 2 \n",
    "lista6 =  []\n",
    "for i in range(0,101):\n",
    "    if i % 2 == 0:\n",
    "        lista6.append(0)\n",
    "    \n",
    "    else:\n",
    "        lista6.append(i)\n",
    "         "
   ]
  },
  {
   "cell_type": "code",
   "execution_count": 49,
   "id": "2bce6334",
   "metadata": {},
   "outputs": [
    {
     "data": {
      "text/plain": [
       "2500"
      ]
     },
     "execution_count": 49,
     "metadata": {},
     "output_type": "execute_result"
    }
   ],
   "source": [
    "sum(lista6)"
   ]
  },
  {
   "cell_type": "markdown",
   "id": "70502f9e",
   "metadata": {},
   "source": [
    "6) Contar cuantas veces aparece un elemento en una lista."
   ]
  },
  {
   "cell_type": "code",
   "execution_count": 31,
   "id": "0fdc525b",
   "metadata": {},
   "outputs": [],
   "source": [
    "lista_creada = [1,1,1,1,3,3,5,6,7,8,8,8,9]"
   ]
  },
  {
   "cell_type": "code",
   "execution_count": 32,
   "id": "b2c981d2",
   "metadata": {},
   "outputs": [
    {
     "name": "stdout",
     "output_type": "stream",
     "text": [
      "['__add__', '__class__', '__class_getitem__', '__contains__', '__delattr__', '__delitem__', '__dir__', '__doc__', '__eq__', '__format__', '__ge__', '__getattribute__', '__getitem__', '__gt__', '__hash__', '__iadd__', '__imul__', '__init__', '__init_subclass__', '__iter__', '__le__', '__len__', '__lt__', '__mul__', '__ne__', '__new__', '__reduce__', '__reduce_ex__', '__repr__', '__reversed__', '__rmul__', '__setattr__', '__setitem__', '__sizeof__', '__str__', '__subclasshook__', 'append', 'clear', 'copy', 'count', 'extend', 'index', 'insert', 'pop', 'remove', 'reverse', 'sort']\n"
     ]
    }
   ],
   "source": [
    "print(dir(lista_creada))"
   ]
  },
  {
   "cell_type": "code",
   "execution_count": 33,
   "id": "1d8ee81d",
   "metadata": {},
   "outputs": [
    {
     "data": {
      "text/plain": [
       "4"
      ]
     },
     "execution_count": 33,
     "metadata": {},
     "output_type": "execute_result"
    }
   ],
   "source": [
    "#solucion 1\n",
    "lista_creada.count(1) #ctas veces esta el elemento en la lista? "
   ]
  },
  {
   "cell_type": "code",
   "execution_count": 38,
   "id": "a661d13d",
   "metadata": {},
   "outputs": [],
   "source": [
    "#solucion 2 \n",
    "def contar(lista, elemento):\n",
    "    contador = 0\n",
    "    for elemento in lista:\n",
    "        if(elemento == x):\n",
    "            contador = contador + 1\n",
    "    return contador "
   ]
  },
  {
   "cell_type": "code",
   "execution_count": 41,
   "id": "b9ab9ec6",
   "metadata": {},
   "outputs": [],
   "source": [
    "x = 1"
   ]
  },
  {
   "cell_type": "code",
   "execution_count": 42,
   "id": "1e508750",
   "metadata": {},
   "outputs": [
    {
     "data": {
      "text/plain": [
       "4"
      ]
     },
     "execution_count": 42,
     "metadata": {},
     "output_type": "execute_result"
    }
   ],
   "source": [
    "contar(lista_creada, x)"
   ]
  }
 ],
 "metadata": {
  "kernelspec": {
   "display_name": "Python 3 (ipykernel)",
   "language": "python",
   "name": "python3"
  },
  "language_info": {
   "codemirror_mode": {
    "name": "ipython",
    "version": 3
   },
   "file_extension": ".py",
   "mimetype": "text/x-python",
   "name": "python",
   "nbconvert_exporter": "python",
   "pygments_lexer": "ipython3",
   "version": "3.9.13"
  }
 },
 "nbformat": 4,
 "nbformat_minor": 5
}
